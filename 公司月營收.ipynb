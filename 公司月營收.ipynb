{
 "cells": [
  {
   "cell_type": "code",
   "execution_count": 185,
   "metadata": {},
   "outputs": [],
   "source": [
    "import pandas as pd\n",
    "import requests\n",
    "import numpy as np\n",
    "from io import StringIO"
   ]
  },
  {
   "cell_type": "code",
   "execution_count": 186,
   "metadata": {},
   "outputs": [],
   "source": [
    "# step2. 爬取目標網站\n",
    "date = '109_12' #民國年份_月份\n",
    "\n",
    "url = 'https://mops.twse.com.tw/nas/t21/sii/t21sc03_'+ date +'_0.html'\n",
    "html_df = pd.read_html(url)"
   ]
  },
  {
   "cell_type": "code",
   "execution_count": 187,
   "metadata": {},
   "outputs": [],
   "source": [
    "for df in html_df:\n",
    "    if df.shape[1]==11:\n",
    "        df.drop(df.tail(1).index, inplace=True)\n",
    "df= pd.concat([df for df in html_df if df.shape[1] == 11],ignore_index=True)"
   ]
  },
  {
   "cell_type": "code",
   "execution_count": null,
   "metadata": {},
   "outputs": [],
   "source": [
    "###### 股票表格重置\n",
    "ndf1=df1['Unnamed: 0_level_0']\n",
    "ndf2=df1['Unnamed: 1_level_0']\n",
    "ndf3=df1['營業收入']\n",
    "ndf4=df1['累計營業收入']\n",
    "ndf5=df1['備註']\n",
    "ndf=ndf1.join(ndf2)\n",
    "ndf=ndf.join(ndf3)\n",
    "ndf=ndf.join(ndf4)\n",
    "ndf=ndf.join(ndf5)\n",
    "ndf"
   ]
  },
  {
   "cell_type": "code",
   "execution_count": 189,
   "metadata": {},
   "outputs": [
    {
     "data": {
      "text/html": [
       "<div>\n",
       "<style scoped>\n",
       "    .dataframe tbody tr th:only-of-type {\n",
       "        vertical-align: middle;\n",
       "    }\n",
       "\n",
       "    .dataframe tbody tr th {\n",
       "        vertical-align: top;\n",
       "    }\n",
       "\n",
       "    .dataframe thead th {\n",
       "        text-align: right;\n",
       "    }\n",
       "</style>\n",
       "<table border=\"1\" class=\"dataframe\">\n",
       "  <thead>\n",
       "    <tr style=\"text-align: right;\">\n",
       "      <th></th>\n",
       "      <th>公司代號</th>\n",
       "      <th>公司名稱</th>\n",
       "      <th>當月營收</th>\n",
       "      <th>上月營收</th>\n",
       "      <th>去年當月營收</th>\n",
       "      <th>上月比較增減(%)</th>\n",
       "      <th>去年同月增減(%)</th>\n",
       "      <th>當月累計營收</th>\n",
       "      <th>去年累計營收</th>\n",
       "      <th>前期比較增減(%)</th>\n",
       "      <th>備註</th>\n",
       "    </tr>\n",
       "  </thead>\n",
       "  <tbody>\n",
       "    <tr>\n",
       "      <th>280</th>\n",
       "      <td>2330</td>\n",
       "      <td>台積電</td>\n",
       "      <td>117364912.0</td>\n",
       "      <td>124865438.0</td>\n",
       "      <td>103313138.0</td>\n",
       "      <td>-6.0</td>\n",
       "      <td>13.6</td>\n",
       "      <td>1.339255e+09</td>\n",
       "      <td>1.069985e+09</td>\n",
       "      <td>25.16</td>\n",
       "      <td>-</td>\n",
       "    </tr>\n",
       "  </tbody>\n",
       "</table>\n",
       "</div>"
      ],
      "text/plain": [
       "     公司代號 公司名稱         當月營收         上月營收       去年當月營收  上月比較增減(%)  去年同月增減(%)  \\\n",
       "280  2330  台積電  117364912.0  124865438.0  103313138.0       -6.0       13.6   \n",
       "\n",
       "           當月累計營收        去年累計營收  前期比較增減(%) 備註  \n",
       "280  1.339255e+09  1.069985e+09      25.16  -  "
      ]
     },
     "execution_count": 189,
     "metadata": {},
     "output_type": "execute_result"
    }
   ],
   "source": [
    "#檢索單公司營收報告\n",
    "index = list(ndf['公司名稱']).index('台積電')\n",
    "ndf.loc[index:index]"
   ]
  }
 ],
 "metadata": {
  "kernelspec": {
   "display_name": "Python 3",
   "language": "python",
   "name": "python3"
  },
  "language_info": {
   "codemirror_mode": {
    "name": "ipython",
    "version": 3
   },
   "file_extension": ".py",
   "mimetype": "text/x-python",
   "name": "python",
   "nbconvert_exporter": "python",
   "pygments_lexer": "ipython3",
   "version": "3.8.5"
  }
 },
 "nbformat": 4,
 "nbformat_minor": 4
}
